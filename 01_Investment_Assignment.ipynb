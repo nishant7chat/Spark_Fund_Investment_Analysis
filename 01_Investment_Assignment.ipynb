{
 "cells": [
  {
   "cell_type": "code",
   "execution_count": 730,
   "metadata": {
    "collapsed": true
   },
   "outputs": [],
   "source": [
    "import numpy as np\n",
    "import pandas as pd"
   ]
  },
  {
   "cell_type": "code",
   "execution_count": 731,
   "metadata": {
    "collapsed": true
   },
   "outputs": [],
   "source": [
    "companies = pd.read_csv(\"companies.txt\", sep=\"\\t\", engine='python')\n",
    "#companies.head()"
   ]
  },
  {
   "cell_type": "code",
   "execution_count": 732,
   "metadata": {
    "collapsed": true
   },
   "outputs": [],
   "source": [
    "rounds2 = pd.read_csv(\"rounds2.csv\", sep=\",\", engine='python')\n",
    "#rounds2.head()"
   ]
  },
  {
   "cell_type": "code",
   "execution_count": 733,
   "metadata": {
    "collapsed": true
   },
   "outputs": [],
   "source": [
    "companies['permalink'] = companies['permalink'].str.upper()"
   ]
  },
  {
   "cell_type": "code",
   "execution_count": 734,
   "metadata": {},
   "outputs": [
    {
     "data": {
      "text/plain": [
       "(66368, 10)"
      ]
     },
     "execution_count": 734,
     "metadata": {},
     "output_type": "execute_result"
    }
   ],
   "source": [
    "companies.shape"
   ]
  },
  {
   "cell_type": "code",
   "execution_count": 735,
   "metadata": {},
   "outputs": [
    {
     "data": {
      "text/plain": [
       "66368"
      ]
     },
     "execution_count": 735,
     "metadata": {},
     "output_type": "execute_result"
    }
   ],
   "source": [
    "companies['permalink'].nunique() #companies.permalink.drop_duplicates()"
   ]
  },
  {
   "cell_type": "code",
   "execution_count": 736,
   "metadata": {
    "collapsed": true
   },
   "outputs": [],
   "source": [
    "rounds2['company_permalink'] = rounds2['company_permalink'].str.upper()"
   ]
  },
  {
   "cell_type": "code",
   "execution_count": 737,
   "metadata": {},
   "outputs": [
    {
     "data": {
      "text/plain": [
       "(114949, 6)"
      ]
     },
     "execution_count": 737,
     "metadata": {},
     "output_type": "execute_result"
    }
   ],
   "source": [
    "rounds2.shape"
   ]
  },
  {
   "cell_type": "code",
   "execution_count": 738,
   "metadata": {},
   "outputs": [
    {
     "data": {
      "text/plain": [
       "66368"
      ]
     },
     "execution_count": 738,
     "metadata": {},
     "output_type": "execute_result"
    }
   ],
   "source": [
    "rounds2['company_permalink'].nunique() #rounds2.company_permalink.drop_duplicates()"
   ]
  },
  {
   "cell_type": "code",
   "execution_count": 739,
   "metadata": {},
   "outputs": [
    {
     "data": {
      "text/plain": [
       "set()"
      ]
     },
     "execution_count": 739,
     "metadata": {},
     "output_type": "execute_result"
    }
   ],
   "source": [
    "set(rounds2['company_permalink']).difference(set(companies['permalink']))"
   ]
  },
  {
   "cell_type": "code",
   "execution_count": 740,
   "metadata": {
    "collapsed": true
   },
   "outputs": [],
   "source": [
    "master_frame = pd.merge(rounds2, companies, how='inner',left_on='company_permalink', right_on='permalink')"
   ]
  },
  {
   "cell_type": "code",
   "execution_count": 741,
   "metadata": {
    "collapsed": true
   },
   "outputs": [],
   "source": [
    "#master_frame.head(1)"
   ]
  },
  {
   "cell_type": "code",
   "execution_count": 742,
   "metadata": {},
   "outputs": [
    {
     "data": {
      "text/plain": [
       "(114949, 16)"
      ]
     },
     "execution_count": 742,
     "metadata": {},
     "output_type": "execute_result"
    }
   ],
   "source": [
    "master_frame.shape"
   ]
  },
  {
   "cell_type": "code",
   "execution_count": 743,
   "metadata": {},
   "outputs": [
    {
     "data": {
      "text/plain": [
       "company_permalink          0.00\n",
       "funding_round_permalink    0.00\n",
       "funding_round_type         0.00\n",
       "funding_round_code        72.91\n",
       "funded_at                  0.00\n",
       "raised_amount_usd         17.39\n",
       "permalink                  0.00\n",
       "name                       0.00\n",
       "homepage_url               5.34\n",
       "category_list              2.97\n",
       "status                     0.00\n",
       "country_code               7.55\n",
       "state_code                 9.52\n",
       "region                     8.84\n",
       "city                       8.84\n",
       "founded_at                17.85\n",
       "dtype: float64"
      ]
     },
     "execution_count": 743,
     "metadata": {},
     "output_type": "execute_result"
    }
   ],
   "source": [
    "round(100*(master_frame.isnull().sum()/len(master_frame.index)), 2)"
   ]
  },
  {
   "cell_type": "code",
   "execution_count": 744,
   "metadata": {
    "collapsed": true
   },
   "outputs": [],
   "source": [
    "#master_frame['raised_amount_usd'].describe()"
   ]
  },
  {
   "cell_type": "code",
   "execution_count": 745,
   "metadata": {},
   "outputs": [
    {
     "data": {
      "text/plain": [
       "company_permalink          0.00\n",
       "funding_round_permalink    0.00\n",
       "funding_round_type         0.00\n",
       "funding_round_code        72.91\n",
       "funded_at                  0.00\n",
       "raised_amount_usd          0.00\n",
       "permalink                  0.00\n",
       "name                       0.00\n",
       "homepage_url               5.34\n",
       "category_list              2.97\n",
       "status                     0.00\n",
       "country_code               7.55\n",
       "state_code                 9.52\n",
       "region                     8.84\n",
       "city                       8.84\n",
       "founded_at                17.85\n",
       "dtype: float64"
      ]
     },
     "execution_count": 745,
     "metadata": {},
     "output_type": "execute_result"
    }
   ],
   "source": [
    "# replace NaNs in raised_amount_usd with 0\n",
    "master_frame.loc[pd.isnull(master_frame['raised_amount_usd']), ['raised_amount_usd']] = 0\n",
    "round(100*(master_frame.isnull().sum()/len(master_frame.index)), 2)"
   ]
  },
  {
   "cell_type": "code",
   "execution_count": 746,
   "metadata": {
    "collapsed": true
   },
   "outputs": [],
   "source": [
    "#master_frame['country_code'].describe()"
   ]
  },
  {
   "cell_type": "code",
   "execution_count": 747,
   "metadata": {},
   "outputs": [
    {
     "data": {
      "text/plain": [
       "company_permalink          0.00\n",
       "funding_round_permalink    0.00\n",
       "funding_round_type         0.00\n",
       "funding_round_code        72.16\n",
       "funded_at                  0.00\n",
       "raised_amount_usd          0.00\n",
       "permalink                  0.00\n",
       "name                       0.00\n",
       "homepage_url               4.28\n",
       "category_list              1.64\n",
       "status                     0.00\n",
       "country_code               0.00\n",
       "state_code                 2.13\n",
       "region                     1.40\n",
       "city                       1.40\n",
       "founded_at                15.82\n",
       "dtype: float64"
      ]
     },
     "execution_count": 747,
     "metadata": {},
     "output_type": "execute_result"
    }
   ],
   "source": [
    "# removing NaNs in country_code\n",
    "master_frame = master_frame[~pd.isnull(master_frame['country_code'])]\n",
    "round(100*(master_frame.isnull().sum()/len(master_frame.index)), 2)"
   ]
  },
  {
   "cell_type": "code",
   "execution_count": 748,
   "metadata": {},
   "outputs": [
    {
     "name": "stdout",
     "output_type": "stream",
     "text": [
      "Empty DataFrame\n",
      "Columns: [funding_round_code, name, homepage_url, category_list, state_code, region, city, founded_at]\n",
      "Index: []\n"
     ]
    }
   ],
   "source": [
    "null_columns=master_frame.columns[master_frame.isnull().any()]\n",
    "print(master_frame[master_frame[\"permalink\"].isnull()][null_columns])"
   ]
  },
  {
   "cell_type": "code",
   "execution_count": 749,
   "metadata": {
    "collapsed": true
   },
   "outputs": [],
   "source": [
    "#master_frame.drop_duplicates().funding_round_type.value_counts()"
   ]
  },
  {
   "cell_type": "code",
   "execution_count": 750,
   "metadata": {},
   "outputs": [
    {
     "data": {
      "text/html": [
       "<div>\n",
       "<style>\n",
       "    .dataframe thead tr:only-child th {\n",
       "        text-align: right;\n",
       "    }\n",
       "\n",
       "    .dataframe thead th {\n",
       "        text-align: left;\n",
       "    }\n",
       "\n",
       "    .dataframe tbody tr th {\n",
       "        vertical-align: top;\n",
       "    }\n",
       "</style>\n",
       "<table border=\"1\" class=\"dataframe\">\n",
       "  <thead>\n",
       "    <tr style=\"text-align: right;\">\n",
       "      <th></th>\n",
       "      <th>funding_round_type</th>\n",
       "      <th>raised_amount_usd</th>\n",
       "    </tr>\n",
       "  </thead>\n",
       "  <tbody>\n",
       "    <tr>\n",
       "      <th>0</th>\n",
       "      <td>angel</td>\n",
       "      <td>782590.75</td>\n",
       "    </tr>\n",
       "    <tr>\n",
       "      <th>1</th>\n",
       "      <td>private_equity</td>\n",
       "      <td>63993398.50</td>\n",
       "    </tr>\n",
       "    <tr>\n",
       "      <th>2</th>\n",
       "      <td>seed</td>\n",
       "      <td>591227.26</td>\n",
       "    </tr>\n",
       "    <tr>\n",
       "      <th>3</th>\n",
       "      <td>venture</td>\n",
       "      <td>10730346.61</td>\n",
       "    </tr>\n",
       "  </tbody>\n",
       "</table>\n",
       "</div>"
      ],
      "text/plain": [
       "  funding_round_type  raised_amount_usd\n",
       "0              angel          782590.75\n",
       "1     private_equity        63993398.50\n",
       "2               seed          591227.26\n",
       "3            venture        10730346.61"
      ]
     },
     "execution_count": 750,
     "metadata": {},
     "output_type": "execute_result"
    }
   ],
   "source": [
    "pd.options.display.float_format = '{:.2f}'.format\n",
    "by_funding_round_type = master_frame.loc[master_frame['funding_round_type'].isin(['angel','private_equity','seed','venture'])]\n",
    "by_funding_round_type = by_funding_round_type.groupby(['funding_round_type'])\n",
    "by_funding_round_type = pd.DataFrame(by_funding_round_type['raised_amount_usd'].mean()).reset_index()\n",
    "by_funding_round_type"
   ]
  },
  {
   "cell_type": "code",
   "execution_count": 751,
   "metadata": {},
   "outputs": [
    {
     "data": {
      "text/html": [
       "<div>\n",
       "<style>\n",
       "    .dataframe thead tr:only-child th {\n",
       "        text-align: right;\n",
       "    }\n",
       "\n",
       "    .dataframe thead th {\n",
       "        text-align: left;\n",
       "    }\n",
       "\n",
       "    .dataframe tbody tr th {\n",
       "        vertical-align: top;\n",
       "    }\n",
       "</style>\n",
       "<table border=\"1\" class=\"dataframe\">\n",
       "  <thead>\n",
       "    <tr style=\"text-align: right;\">\n",
       "      <th></th>\n",
       "      <th>funding_round_type</th>\n",
       "      <th>raised_amount_usd</th>\n",
       "    </tr>\n",
       "  </thead>\n",
       "  <tbody>\n",
       "    <tr>\n",
       "      <th>3</th>\n",
       "      <td>venture</td>\n",
       "      <td>10730346.61</td>\n",
       "    </tr>\n",
       "  </tbody>\n",
       "</table>\n",
       "</div>"
      ],
      "text/plain": [
       "  funding_round_type  raised_amount_usd\n",
       "3            venture        10730346.61"
      ]
     },
     "execution_count": 751,
     "metadata": {},
     "output_type": "execute_result"
    }
   ],
   "source": [
    "by_funding_round_type[by_funding_round_type['raised_amount_usd'].between(5000000,15000000)]"
   ]
  },
  {
   "cell_type": "code",
   "execution_count": 752,
   "metadata": {
    "collapsed": true
   },
   "outputs": [],
   "source": [
    "top9 = master_frame.loc[master_frame['funding_round_type'].isin(['venture'])]"
   ]
  },
  {
   "cell_type": "code",
   "execution_count": 753,
   "metadata": {
    "collapsed": true
   },
   "outputs": [],
   "source": [
    "top9 = pd.DataFrame({'Total_raised_amount_usd':top9.groupby(['country_code'])['raised_amount_usd'].sum().sort_values(ascending = False)}).reset_index().head(9)"
   ]
  },
  {
   "cell_type": "code",
   "execution_count": 754,
   "metadata": {},
   "outputs": [
    {
     "data": {
      "text/html": [
       "<div>\n",
       "<style>\n",
       "    .dataframe thead tr:only-child th {\n",
       "        text-align: right;\n",
       "    }\n",
       "\n",
       "    .dataframe thead th {\n",
       "        text-align: left;\n",
       "    }\n",
       "\n",
       "    .dataframe tbody tr th {\n",
       "        vertical-align: top;\n",
       "    }\n",
       "</style>\n",
       "<table border=\"1\" class=\"dataframe\">\n",
       "  <thead>\n",
       "    <tr style=\"text-align: right;\">\n",
       "      <th></th>\n",
       "      <th>country_code</th>\n",
       "      <th>Total_raised_amount_usd</th>\n",
       "    </tr>\n",
       "  </thead>\n",
       "  <tbody>\n",
       "    <tr>\n",
       "      <th>0</th>\n",
       "      <td>USA</td>\n",
       "      <td>422510842796.00</td>\n",
       "    </tr>\n",
       "    <tr>\n",
       "      <th>1</th>\n",
       "      <td>CHN</td>\n",
       "      <td>39835418773.00</td>\n",
       "    </tr>\n",
       "    <tr>\n",
       "      <th>2</th>\n",
       "      <td>GBR</td>\n",
       "      <td>20245627416.00</td>\n",
       "    </tr>\n",
       "    <tr>\n",
       "      <th>3</th>\n",
       "      <td>IND</td>\n",
       "      <td>14391858718.00</td>\n",
       "    </tr>\n",
       "    <tr>\n",
       "      <th>4</th>\n",
       "      <td>CAN</td>\n",
       "      <td>9583332317.00</td>\n",
       "    </tr>\n",
       "    <tr>\n",
       "      <th>5</th>\n",
       "      <td>FRA</td>\n",
       "      <td>7259536732.00</td>\n",
       "    </tr>\n",
       "    <tr>\n",
       "      <th>6</th>\n",
       "      <td>ISR</td>\n",
       "      <td>6907514579.00</td>\n",
       "    </tr>\n",
       "    <tr>\n",
       "      <th>7</th>\n",
       "      <td>DEU</td>\n",
       "      <td>6346959822.00</td>\n",
       "    </tr>\n",
       "    <tr>\n",
       "      <th>8</th>\n",
       "      <td>JPN</td>\n",
       "      <td>3363676611.00</td>\n",
       "    </tr>\n",
       "  </tbody>\n",
       "</table>\n",
       "</div>"
      ],
      "text/plain": [
       "  country_code  Total_raised_amount_usd\n",
       "0          USA          422510842796.00\n",
       "1          CHN           39835418773.00\n",
       "2          GBR           20245627416.00\n",
       "3          IND           14391858718.00\n",
       "4          CAN            9583332317.00\n",
       "5          FRA            7259536732.00\n",
       "6          ISR            6907514579.00\n",
       "7          DEU            6346959822.00\n",
       "8          JPN            3363676611.00"
      ]
     },
     "metadata": {},
     "output_type": "display_data"
    }
   ],
   "source": [
    "display(top9)"
   ]
  },
  {
   "cell_type": "code",
   "execution_count": 755,
   "metadata": {
    "collapsed": true
   },
   "outputs": [],
   "source": [
    "country_code_web = pd.read_excel('country_code_web_updated.xlsx', dtype={'country_name': str, 'country_code': object},sheet_name='Sheet1')"
   ]
  },
  {
   "cell_type": "code",
   "execution_count": 756,
   "metadata": {
    "collapsed": true
   },
   "outputs": [],
   "source": [
    "#country_code_web.head()"
   ]
  },
  {
   "cell_type": "code",
   "execution_count": 757,
   "metadata": {
    "collapsed": true
   },
   "outputs": [],
   "source": [
    "country_eng_off_lang = pd.read_excel('Countries_where_English_is_an_official_language.xlsx', dtype={'country_name': str, 'country_name': str},sheet_name='Sheet1')"
   ]
  },
  {
   "cell_type": "code",
   "execution_count": 758,
   "metadata": {
    "collapsed": true
   },
   "outputs": [],
   "source": [
    "#country_eng_off_lang.head()"
   ]
  },
  {
   "cell_type": "code",
   "execution_count": 759,
   "metadata": {
    "collapsed": true
   },
   "outputs": [],
   "source": [
    "countries = pd.merge(country_eng_off_lang, country_code_web, how='left', on='country_name')"
   ]
  },
  {
   "cell_type": "code",
   "execution_count": 760,
   "metadata": {
    "collapsed": true
   },
   "outputs": [],
   "source": [
    "#countries.head()"
   ]
  },
  {
   "cell_type": "code",
   "execution_count": 761,
   "metadata": {
    "collapsed": true
   },
   "outputs": [],
   "source": [
    "#countries.describe()"
   ]
  },
  {
   "cell_type": "code",
   "execution_count": 762,
   "metadata": {
    "collapsed": true
   },
   "outputs": [],
   "source": [
    "top3 = pd.merge(top9, countries, how='inner', on='country_code').head(3)"
   ]
  },
  {
   "cell_type": "code",
   "execution_count": 763,
   "metadata": {},
   "outputs": [
    {
     "data": {
      "text/html": [
       "<div>\n",
       "<style>\n",
       "    .dataframe thead tr:only-child th {\n",
       "        text-align: right;\n",
       "    }\n",
       "\n",
       "    .dataframe thead th {\n",
       "        text-align: left;\n",
       "    }\n",
       "\n",
       "    .dataframe tbody tr th {\n",
       "        vertical-align: top;\n",
       "    }\n",
       "</style>\n",
       "<table border=\"1\" class=\"dataframe\">\n",
       "  <thead>\n",
       "    <tr style=\"text-align: right;\">\n",
       "      <th></th>\n",
       "      <th>country_code</th>\n",
       "      <th>Total_raised_amount_usd</th>\n",
       "      <th>country_name</th>\n",
       "      <th>region</th>\n",
       "    </tr>\n",
       "  </thead>\n",
       "  <tbody>\n",
       "    <tr>\n",
       "      <th>0</th>\n",
       "      <td>USA</td>\n",
       "      <td>422510842796.00</td>\n",
       "      <td>United States</td>\n",
       "      <td>Americas</td>\n",
       "    </tr>\n",
       "    <tr>\n",
       "      <th>1</th>\n",
       "      <td>GBR</td>\n",
       "      <td>20245627416.00</td>\n",
       "      <td>United Kingdom</td>\n",
       "      <td>Europe</td>\n",
       "    </tr>\n",
       "    <tr>\n",
       "      <th>2</th>\n",
       "      <td>IND</td>\n",
       "      <td>14391858718.00</td>\n",
       "      <td>India</td>\n",
       "      <td>Asia</td>\n",
       "    </tr>\n",
       "  </tbody>\n",
       "</table>\n",
       "</div>"
      ],
      "text/plain": [
       "  country_code  Total_raised_amount_usd    country_name    region\n",
       "0          USA          422510842796.00   United States  Americas\n",
       "1          GBR           20245627416.00  United Kingdom    Europe\n",
       "2          IND           14391858718.00           India      Asia"
      ]
     },
     "metadata": {},
     "output_type": "display_data"
    }
   ],
   "source": [
    "display(top3)"
   ]
  },
  {
   "cell_type": "code",
   "execution_count": 764,
   "metadata": {
    "collapsed": true
   },
   "outputs": [],
   "source": [
    "mapping = pd.read_csv(\"mapping.csv\", sep=\",\", engine = 'python')\n",
    "#mapping.head()"
   ]
  },
  {
   "cell_type": "code",
   "execution_count": 765,
   "metadata": {
    "collapsed": true
   },
   "outputs": [],
   "source": [
    "mapping['category_list'] = mapping['category_list'].str.replace('0','na') \n",
    "#mapping.head()"
   ]
  },
  {
   "cell_type": "code",
   "execution_count": 766,
   "metadata": {
    "collapsed": true
   },
   "outputs": [],
   "source": [
    "categories = pd.melt(mapping,id_vars='category_list', value_vars=mapping.columns.drop('category_list').tolist(),var_name='main_sector',value_name='value').dropna().sort_values('category_list')"
   ]
  },
  {
   "cell_type": "code",
   "execution_count": 767,
   "metadata": {
    "collapsed": true
   },
   "outputs": [],
   "source": [
    "is_main_sector = categories['value']==1"
   ]
  },
  {
   "cell_type": "code",
   "execution_count": 768,
   "metadata": {
    "collapsed": true
   },
   "outputs": [],
   "source": [
    "categories = categories[is_main_sector].drop(['value'], axis=1).reset_index(drop=True)"
   ]
  },
  {
   "cell_type": "code",
   "execution_count": 769,
   "metadata": {
    "collapsed": true
   },
   "outputs": [],
   "source": [
    "#categories.head()"
   ]
  },
  {
   "cell_type": "code",
   "execution_count": 770,
   "metadata": {
    "collapsed": true
   },
   "outputs": [],
   "source": [
    "#master_frame.shape"
   ]
  },
  {
   "cell_type": "code",
   "execution_count": 771,
   "metadata": {
    "collapsed": true
   },
   "outputs": [],
   "source": [
    "master_frame['primary_sector'] = master_frame['category_list'].str.split('|').str[0]"
   ]
  },
  {
   "cell_type": "code",
   "execution_count": 772,
   "metadata": {
    "collapsed": true
   },
   "outputs": [],
   "source": [
    "master_frame = pd.merge(master_frame, categories, how='left', left_on='primary_sector', right_on='category_list').drop('category_list_y', axis=1).rename(index=str, columns={\"category_list_x\": \"category_list\"})"
   ]
  },
  {
   "cell_type": "code",
   "execution_count": 773,
   "metadata": {
    "collapsed": true
   },
   "outputs": [],
   "source": [
    "#master_frame.shape"
   ]
  },
  {
   "cell_type": "code",
   "execution_count": 774,
   "metadata": {
    "collapsed": true
   },
   "outputs": [],
   "source": [
    "#master_frame[master_frame[\"main_sector\"].isnull()][['primary_sector','main_sector']].drop_duplicates()"
   ]
  },
  {
   "cell_type": "code",
   "execution_count": 775,
   "metadata": {},
   "outputs": [
    {
     "data": {
      "text/plain": [
       "company_permalink          0.00\n",
       "funding_round_permalink    0.00\n",
       "funding_round_type         0.00\n",
       "funding_round_code        72.16\n",
       "funded_at                  0.00\n",
       "raised_amount_usd          0.00\n",
       "permalink                  0.00\n",
       "name                       0.00\n",
       "homepage_url               4.28\n",
       "category_list              1.64\n",
       "status                     0.00\n",
       "country_code               0.00\n",
       "state_code                 2.13\n",
       "region                     1.40\n",
       "city                       1.40\n",
       "founded_at                15.82\n",
       "primary_sector             1.64\n",
       "main_sector                1.99\n",
       "dtype: float64"
      ]
     },
     "execution_count": 775,
     "metadata": {},
     "output_type": "execute_result"
    }
   ],
   "source": [
    "#null_columns=master_frame.columns[master_frame.isnull().any()]\n",
    "#master_frame[master_frame[\"main_sector\"].isnull()][['primary_sector','main_sector']].drop_duplicates()\n",
    "round(100*(master_frame.isnull().sum()/len(master_frame.index)), 2)"
   ]
  },
  {
   "cell_type": "code",
   "execution_count": 776,
   "metadata": {
    "collapsed": true
   },
   "outputs": [],
   "source": [
    "#master_frame['primary_sector'].describe()"
   ]
  },
  {
   "cell_type": "code",
   "execution_count": 777,
   "metadata": {},
   "outputs": [
    {
     "data": {
      "text/plain": [
       "company_permalink          0.00\n",
       "funding_round_permalink    0.00\n",
       "funding_round_type         0.00\n",
       "funding_round_code        71.94\n",
       "funded_at                  0.00\n",
       "raised_amount_usd          0.00\n",
       "permalink                  0.00\n",
       "name                       0.00\n",
       "homepage_url               4.04\n",
       "category_list              0.00\n",
       "status                     0.00\n",
       "country_code               0.00\n",
       "state_code                 2.12\n",
       "region                     1.39\n",
       "city                       1.39\n",
       "founded_at                15.37\n",
       "primary_sector             0.00\n",
       "main_sector                0.36\n",
       "dtype: float64"
      ]
     },
     "execution_count": 777,
     "metadata": {},
     "output_type": "execute_result"
    }
   ],
   "source": [
    "# removing NaN primary_sector rows\n",
    "master_frame = master_frame[~pd.isnull(master_frame['primary_sector'])]\n",
    "round(100*(master_frame.isnull().sum()/len(master_frame.index)), 2)"
   ]
  },
  {
   "cell_type": "code",
   "execution_count": 778,
   "metadata": {
    "collapsed": true
   },
   "outputs": [],
   "source": [
    "#master_frame['main_sector'].describe()"
   ]
  },
  {
   "cell_type": "code",
   "execution_count": 779,
   "metadata": {},
   "outputs": [
    {
     "data": {
      "text/plain": [
       "Social, Finance, Analytics, Advertising    24867\n",
       "Others                                     24072\n",
       "Cleantech / Semiconductors                 15642\n",
       "News, Search and Messaging                 14810\n",
       "Health                                      7852\n",
       "Entertainment                               7768\n",
       "Manufacturing                               6828\n",
       "Automotive & Sports                         2318\n",
       "Name: main_sector, dtype: int64"
      ]
     },
     "execution_count": 779,
     "metadata": {},
     "output_type": "execute_result"
    }
   ],
   "source": [
    "master_frame['main_sector'].value_counts()"
   ]
  },
  {
   "cell_type": "code",
   "execution_count": 780,
   "metadata": {},
   "outputs": [
    {
     "data": {
      "text/plain": [
       "company_permalink          0.00\n",
       "funding_round_permalink    0.00\n",
       "funding_round_type         0.00\n",
       "funding_round_code        71.94\n",
       "funded_at                  0.00\n",
       "raised_amount_usd          0.00\n",
       "permalink                  0.00\n",
       "name                       0.00\n",
       "homepage_url               4.04\n",
       "category_list              0.00\n",
       "status                     0.00\n",
       "country_code               0.00\n",
       "state_code                 2.12\n",
       "region                     1.39\n",
       "city                       1.39\n",
       "founded_at                15.37\n",
       "primary_sector             0.00\n",
       "main_sector                0.00\n",
       "dtype: float64"
      ]
     },
     "execution_count": 780,
     "metadata": {},
     "output_type": "execute_result"
    }
   ],
   "source": [
    "# impute them by the mode - the most common occurring value\n",
    "master_frame.loc[pd.isnull(master_frame['main_sector']), ['main_sector']] = 'Social, Finance, Analytics, Advertising'\n",
    "round(100*(master_frame.isnull().sum()/len(master_frame.index)), 2)"
   ]
  },
  {
   "cell_type": "code",
   "execution_count": 781,
   "metadata": {
    "collapsed": true
   },
   "outputs": [],
   "source": [
    "df_filter_by_fundingRound_fundingRange = master_frame.loc[(master_frame['funding_round_type'].isin(['venture'])) & (master_frame['raised_amount_usd'].between(5000000,15000000))]"
   ]
  },
  {
   "cell_type": "code",
   "execution_count": 782,
   "metadata": {
    "collapsed": true
   },
   "outputs": [],
   "source": [
    "D1 = df_filter_by_fundingRound_fundingRange.loc[(df_filter_by_fundingRound_fundingRange['country_code'].isin(['USA']))]\n",
    "D1.is_copy = False\n",
    "D1['Total_number_of_investments'] = D1.groupby('main_sector')['country_code'].transform('count')\n",
    "D1['Total_amount_of_investment_usd'] = D1.groupby('main_sector')['raised_amount_usd'].transform('sum')"
   ]
  },
  {
   "cell_type": "code",
   "execution_count": 783,
   "metadata": {
    "collapsed": true
   },
   "outputs": [],
   "source": [
    "#D1.head(2)"
   ]
  },
  {
   "cell_type": "code",
   "execution_count": 784,
   "metadata": {},
   "outputs": [
    {
     "data": {
      "text/plain": [
       "main_sector                       Social, Finance, Analytics, AdvertisingNews, S...\n",
       "Total_number_of_investments                                                   12064\n",
       "Total_amount_of_investment_usd                                      107766584223.00\n",
       "dtype: object"
      ]
     },
     "execution_count": 784,
     "metadata": {},
     "output_type": "execute_result"
    }
   ],
   "source": [
    "D1[['main_sector','Total_number_of_investments','Total_amount_of_investment_usd']].drop_duplicates().dropna().sum()"
   ]
  },
  {
   "cell_type": "code",
   "execution_count": 785,
   "metadata": {},
   "outputs": [
    {
     "data": {
      "text/html": [
       "<div>\n",
       "<style>\n",
       "    .dataframe thead tr:only-child th {\n",
       "        text-align: right;\n",
       "    }\n",
       "\n",
       "    .dataframe thead th {\n",
       "        text-align: left;\n",
       "    }\n",
       "\n",
       "    .dataframe tbody tr th {\n",
       "        vertical-align: top;\n",
       "    }\n",
       "</style>\n",
       "<table border=\"1\" class=\"dataframe\">\n",
       "  <thead>\n",
       "    <tr style=\"text-align: right;\">\n",
       "      <th></th>\n",
       "      <th>main_sector</th>\n",
       "      <th>Total_number_of_investments</th>\n",
       "      <th>Total_amount_of_investment_usd</th>\n",
       "    </tr>\n",
       "  </thead>\n",
       "  <tbody>\n",
       "    <tr>\n",
       "      <th>94</th>\n",
       "      <td>Others</td>\n",
       "      <td>2950</td>\n",
       "      <td>26321007002.00</td>\n",
       "    </tr>\n",
       "    <tr>\n",
       "      <th>11</th>\n",
       "      <td>Social, Finance, Analytics, Advertising</td>\n",
       "      <td>2766</td>\n",
       "      <td>24255666523.00</td>\n",
       "    </tr>\n",
       "    <tr>\n",
       "      <th>140</th>\n",
       "      <td>Cleantech / Semiconductors</td>\n",
       "      <td>2300</td>\n",
       "      <td>21206628192.00</td>\n",
       "    </tr>\n",
       "    <tr>\n",
       "      <th>21</th>\n",
       "      <td>News, Search and Messaging</td>\n",
       "      <td>1582</td>\n",
       "      <td>13959567428.00</td>\n",
       "    </tr>\n",
       "    <tr>\n",
       "      <th>825</th>\n",
       "      <td>Health</td>\n",
       "      <td>909</td>\n",
       "      <td>8211859357.00</td>\n",
       "    </tr>\n",
       "    <tr>\n",
       "      <th>101</th>\n",
       "      <td>Manufacturing</td>\n",
       "      <td>799</td>\n",
       "      <td>7258553378.00</td>\n",
       "    </tr>\n",
       "    <tr>\n",
       "      <th>767</th>\n",
       "      <td>Entertainment</td>\n",
       "      <td>591</td>\n",
       "      <td>5099197982.00</td>\n",
       "    </tr>\n",
       "    <tr>\n",
       "      <th>415</th>\n",
       "      <td>Automotive &amp; Sports</td>\n",
       "      <td>167</td>\n",
       "      <td>1454104361.00</td>\n",
       "    </tr>\n",
       "  </tbody>\n",
       "</table>\n",
       "</div>"
      ],
      "text/plain": [
       "                                 main_sector  Total_number_of_investments  \\\n",
       "94                                    Others                         2950   \n",
       "11   Social, Finance, Analytics, Advertising                         2766   \n",
       "140               Cleantech / Semiconductors                         2300   \n",
       "21                News, Search and Messaging                         1582   \n",
       "825                                   Health                          909   \n",
       "101                            Manufacturing                          799   \n",
       "767                            Entertainment                          591   \n",
       "415                      Automotive & Sports                          167   \n",
       "\n",
       "     Total_amount_of_investment_usd  \n",
       "94                   26321007002.00  \n",
       "11                   24255666523.00  \n",
       "140                  21206628192.00  \n",
       "21                   13959567428.00  \n",
       "825                   8211859357.00  \n",
       "101                   7258553378.00  \n",
       "767                   5099197982.00  \n",
       "415                   1454104361.00  "
      ]
     },
     "execution_count": 785,
     "metadata": {},
     "output_type": "execute_result"
    }
   ],
   "source": [
    "D1_USA = D1[['main_sector','Total_number_of_investments','Total_amount_of_investment_usd']].drop_duplicates().dropna().sort_values('Total_number_of_investments',ascending = False)\n",
    "D1_USA = D1_USA.reset_index(drop = True)\n",
    "D1[['main_sector','Total_number_of_investments','Total_amount_of_investment_usd']].drop_duplicates().dropna().sort_values('Total_number_of_investments',ascending = False)"
   ]
  },
  {
   "cell_type": "code",
   "execution_count": 786,
   "metadata": {},
   "outputs": [
    {
     "data": {
      "text/plain": [
       "main_sector                              company_permalink        \n",
       "Social, Finance, Analytics, Advertising  /ORGANIZATION/SHOTSPOTTER   67933006.00\n",
       "Name: raised_amount_usd, dtype: float64"
      ]
     },
     "execution_count": 786,
     "metadata": {},
     "output_type": "execute_result"
    }
   ],
   "source": [
    "D1_Top2 = D1[['main_sector','Total_number_of_investments','Total_amount_of_investment_usd']].drop_duplicates().dropna().sort_values('Total_number_of_investments',ascending = False).head(3).main_sector.reset_index(drop = True)\n",
    "#D1_Top2[0]\n",
    "D1.loc[D1['main_sector'].isin([D1_Top2[1]])].groupby(['main_sector','company_permalink'])['raised_amount_usd'].sum().dropna().sort_values(ascending = False).head(1)"
   ]
  },
  {
   "cell_type": "code",
   "execution_count": 787,
   "metadata": {},
   "outputs": [
    {
     "data": {
      "text/plain": [
       "main_sector                 company_permalink     \n",
       "Cleantech / Semiconductors  /ORGANIZATION/BIODESIX   75300000.00\n",
       "Name: raised_amount_usd, dtype: float64"
      ]
     },
     "execution_count": 787,
     "metadata": {},
     "output_type": "execute_result"
    }
   ],
   "source": [
    "D1.loc[D1['main_sector'].isin([D1_Top2[2]])].groupby(['main_sector','company_permalink'])['raised_amount_usd'].sum().dropna().sort_values(ascending = False).head(1)"
   ]
  },
  {
   "cell_type": "code",
   "execution_count": 788,
   "metadata": {
    "collapsed": true
   },
   "outputs": [],
   "source": [
    "D2 = df_filter_by_fundingRound_fundingRange.loc[(df_filter_by_fundingRound_fundingRange['country_code'].isin(['GBR']))]\n",
    "D2.is_copy = False\n",
    "D2['Total_number_of_investments'] = D2.groupby('main_sector')['country_code'].transform('count')\n",
    "D2['Total_amount_of_investment_usd'] = D2.groupby('main_sector')['raised_amount_usd'].transform('sum')"
   ]
  },
  {
   "cell_type": "code",
   "execution_count": 789,
   "metadata": {},
   "outputs": [
    {
     "data": {
      "text/plain": [
       "main_sector                       Social, Finance, Analytics, AdvertisingEnterta...\n",
       "Total_number_of_investments                                                     621\n",
       "Total_amount_of_investment_usd                                        5379078691.00\n",
       "dtype: object"
      ]
     },
     "execution_count": 789,
     "metadata": {},
     "output_type": "execute_result"
    }
   ],
   "source": [
    "D2[['main_sector','Total_number_of_investments','Total_amount_of_investment_usd']].drop_duplicates().dropna().sum()"
   ]
  },
  {
   "cell_type": "code",
   "execution_count": 790,
   "metadata": {},
   "outputs": [
    {
     "data": {
      "text/html": [
       "<div>\n",
       "<style>\n",
       "    .dataframe thead tr:only-child th {\n",
       "        text-align: right;\n",
       "    }\n",
       "\n",
       "    .dataframe thead th {\n",
       "        text-align: left;\n",
       "    }\n",
       "\n",
       "    .dataframe tbody tr th {\n",
       "        vertical-align: top;\n",
       "    }\n",
       "</style>\n",
       "<table border=\"1\" class=\"dataframe\">\n",
       "  <thead>\n",
       "    <tr style=\"text-align: right;\">\n",
       "      <th></th>\n",
       "      <th>main_sector</th>\n",
       "      <th>Total_number_of_investments</th>\n",
       "      <th>Total_amount_of_investment_usd</th>\n",
       "    </tr>\n",
       "  </thead>\n",
       "  <tbody>\n",
       "    <tr>\n",
       "      <th>1685</th>\n",
       "      <td>Others</td>\n",
       "      <td>147</td>\n",
       "      <td>1283624289.00</td>\n",
       "    </tr>\n",
       "    <tr>\n",
       "      <th>367</th>\n",
       "      <td>Social, Finance, Analytics, Advertising</td>\n",
       "      <td>135</td>\n",
       "      <td>1103254405.00</td>\n",
       "    </tr>\n",
       "    <tr>\n",
       "      <th>1079</th>\n",
       "      <td>Cleantech / Semiconductors</td>\n",
       "      <td>128</td>\n",
       "      <td>1150139665.00</td>\n",
       "    </tr>\n",
       "    <tr>\n",
       "      <th>1350</th>\n",
       "      <td>News, Search and Messaging</td>\n",
       "      <td>73</td>\n",
       "      <td>615746235.00</td>\n",
       "    </tr>\n",
       "    <tr>\n",
       "      <th>790</th>\n",
       "      <td>Entertainment</td>\n",
       "      <td>56</td>\n",
       "      <td>482784687.00</td>\n",
       "    </tr>\n",
       "    <tr>\n",
       "      <th>5592</th>\n",
       "      <td>Manufacturing</td>\n",
       "      <td>42</td>\n",
       "      <td>361940335.00</td>\n",
       "    </tr>\n",
       "    <tr>\n",
       "      <th>1492</th>\n",
       "      <td>Health</td>\n",
       "      <td>24</td>\n",
       "      <td>214537510.00</td>\n",
       "    </tr>\n",
       "    <tr>\n",
       "      <th>8511</th>\n",
       "      <td>Automotive &amp; Sports</td>\n",
       "      <td>16</td>\n",
       "      <td>167051565.00</td>\n",
       "    </tr>\n",
       "  </tbody>\n",
       "</table>\n",
       "</div>"
      ],
      "text/plain": [
       "                                  main_sector  Total_number_of_investments  \\\n",
       "1685                                   Others                          147   \n",
       "367   Social, Finance, Analytics, Advertising                          135   \n",
       "1079               Cleantech / Semiconductors                          128   \n",
       "1350               News, Search and Messaging                           73   \n",
       "790                             Entertainment                           56   \n",
       "5592                            Manufacturing                           42   \n",
       "1492                                   Health                           24   \n",
       "8511                      Automotive & Sports                           16   \n",
       "\n",
       "      Total_amount_of_investment_usd  \n",
       "1685                   1283624289.00  \n",
       "367                    1103254405.00  \n",
       "1079                   1150139665.00  \n",
       "1350                    615746235.00  \n",
       "790                     482784687.00  \n",
       "5592                    361940335.00  \n",
       "1492                    214537510.00  \n",
       "8511                    167051565.00  "
      ]
     },
     "execution_count": 790,
     "metadata": {},
     "output_type": "execute_result"
    }
   ],
   "source": [
    "D2_GBR = D2[['main_sector','Total_number_of_investments','Total_amount_of_investment_usd']].drop_duplicates().dropna().sort_values('Total_number_of_investments',ascending = False)\n",
    "D2_GBR = D2_GBR.reset_index(drop = True)\n",
    "D2[['main_sector','Total_number_of_investments','Total_amount_of_investment_usd']].drop_duplicates().dropna().sort_values('Total_number_of_investments',ascending = False)"
   ]
  },
  {
   "cell_type": "code",
   "execution_count": 791,
   "metadata": {},
   "outputs": [
    {
     "data": {
      "text/plain": [
       "main_sector                              company_permalink                  \n",
       "Social, Finance, Analytics, Advertising  /ORGANIZATION/CELLTICK-TECHNOLOGIES   37500000.00\n",
       "Name: raised_amount_usd, dtype: float64"
      ]
     },
     "execution_count": 791,
     "metadata": {},
     "output_type": "execute_result"
    }
   ],
   "source": [
    "D2_Top2 = D2[['main_sector','Total_number_of_investments','Total_amount_of_investment_usd']].drop_duplicates().dropna().sort_values('Total_number_of_investments',ascending = False).head(3).main_sector.reset_index(drop = True)\n",
    "#D2_Top2[0]\n",
    "D2.loc[D2['main_sector'].isin([D2_Top2[1]])].groupby(['main_sector','company_permalink'])['raised_amount_usd'].sum().dropna().sort_values(ascending = False).head(1)"
   ]
  },
  {
   "cell_type": "code",
   "execution_count": 792,
   "metadata": {},
   "outputs": [
    {
     "data": {
      "text/plain": [
       "main_sector                 company_permalink        \n",
       "Cleantech / Semiconductors  /ORGANIZATION/EUSA-PHARMA   35600000.00\n",
       "Name: raised_amount_usd, dtype: float64"
      ]
     },
     "execution_count": 792,
     "metadata": {},
     "output_type": "execute_result"
    }
   ],
   "source": [
    "D2.loc[D2['main_sector'].isin([D2_Top2[2]])].groupby(['main_sector','company_permalink'])['raised_amount_usd'].sum().dropna().sort_values(ascending = False).head(1)"
   ]
  },
  {
   "cell_type": "code",
   "execution_count": 793,
   "metadata": {
    "collapsed": true
   },
   "outputs": [],
   "source": [
    "D3 = df_filter_by_fundingRound_fundingRange.loc[(df_filter_by_fundingRound_fundingRange['country_code'].isin(['IND']))]\n",
    "D3.is_copy = False\n",
    "D3['Total_number_of_investments'] = D3.groupby('main_sector')['country_code'].transform('count')\n",
    "D3['Total_amount_of_investment_usd'] = D3.groupby('main_sector')['raised_amount_usd'].transform('sum')"
   ]
  },
  {
   "cell_type": "code",
   "execution_count": 794,
   "metadata": {},
   "outputs": [
    {
     "data": {
      "text/plain": [
       "main_sector                       EntertainmentOthersSocial, Finance, Analytics,...\n",
       "Total_number_of_investments                                                     328\n",
       "Total_amount_of_investment_usd                                        2949543602.00\n",
       "dtype: object"
      ]
     },
     "execution_count": 794,
     "metadata": {},
     "output_type": "execute_result"
    }
   ],
   "source": [
    "D3[['main_sector','Total_number_of_investments','Total_amount_of_investment_usd']].drop_duplicates().dropna().sum()"
   ]
  },
  {
   "cell_type": "code",
   "execution_count": 795,
   "metadata": {},
   "outputs": [
    {
     "data": {
      "text/html": [
       "<div>\n",
       "<style>\n",
       "    .dataframe thead tr:only-child th {\n",
       "        text-align: right;\n",
       "    }\n",
       "\n",
       "    .dataframe thead th {\n",
       "        text-align: left;\n",
       "    }\n",
       "\n",
       "    .dataframe tbody tr th {\n",
       "        vertical-align: top;\n",
       "    }\n",
       "</style>\n",
       "<table border=\"1\" class=\"dataframe\">\n",
       "  <thead>\n",
       "    <tr style=\"text-align: right;\">\n",
       "      <th></th>\n",
       "      <th>main_sector</th>\n",
       "      <th>Total_number_of_investments</th>\n",
       "      <th>Total_amount_of_investment_usd</th>\n",
       "    </tr>\n",
       "  </thead>\n",
       "  <tbody>\n",
       "    <tr>\n",
       "      <th>207</th>\n",
       "      <td>Others</td>\n",
       "      <td>110</td>\n",
       "      <td>1013409507.00</td>\n",
       "    </tr>\n",
       "    <tr>\n",
       "      <th>962</th>\n",
       "      <td>Social, Finance, Analytics, Advertising</td>\n",
       "      <td>60</td>\n",
       "      <td>550549550.00</td>\n",
       "    </tr>\n",
       "    <tr>\n",
       "      <th>9338</th>\n",
       "      <td>News, Search and Messaging</td>\n",
       "      <td>52</td>\n",
       "      <td>433834545.00</td>\n",
       "    </tr>\n",
       "    <tr>\n",
       "      <th>0</th>\n",
       "      <td>Entertainment</td>\n",
       "      <td>33</td>\n",
       "      <td>280830000.00</td>\n",
       "    </tr>\n",
       "    <tr>\n",
       "      <th>9536</th>\n",
       "      <td>Manufacturing</td>\n",
       "      <td>21</td>\n",
       "      <td>200900000.00</td>\n",
       "    </tr>\n",
       "    <tr>\n",
       "      <th>8041</th>\n",
       "      <td>Cleantech / Semiconductors</td>\n",
       "      <td>20</td>\n",
       "      <td>165380000.00</td>\n",
       "    </tr>\n",
       "    <tr>\n",
       "      <th>13173</th>\n",
       "      <td>Health</td>\n",
       "      <td>19</td>\n",
       "      <td>167740000.00</td>\n",
       "    </tr>\n",
       "    <tr>\n",
       "      <th>5444</th>\n",
       "      <td>Automotive &amp; Sports</td>\n",
       "      <td>13</td>\n",
       "      <td>136900000.00</td>\n",
       "    </tr>\n",
       "  </tbody>\n",
       "</table>\n",
       "</div>"
      ],
      "text/plain": [
       "                                   main_sector  Total_number_of_investments  \\\n",
       "207                                     Others                          110   \n",
       "962    Social, Finance, Analytics, Advertising                           60   \n",
       "9338                News, Search and Messaging                           52   \n",
       "0                                Entertainment                           33   \n",
       "9536                             Manufacturing                           21   \n",
       "8041                Cleantech / Semiconductors                           20   \n",
       "13173                                   Health                           19   \n",
       "5444                       Automotive & Sports                           13   \n",
       "\n",
       "       Total_amount_of_investment_usd  \n",
       "207                     1013409507.00  \n",
       "962                      550549550.00  \n",
       "9338                     433834545.00  \n",
       "0                        280830000.00  \n",
       "9536                     200900000.00  \n",
       "8041                     165380000.00  \n",
       "13173                    167740000.00  \n",
       "5444                     136900000.00  "
      ]
     },
     "execution_count": 795,
     "metadata": {},
     "output_type": "execute_result"
    }
   ],
   "source": [
    "D3_IND = D3[['main_sector','Total_number_of_investments','Total_amount_of_investment_usd']].drop_duplicates().dropna().sort_values('Total_number_of_investments',ascending = False)\n",
    "D3_IND = D3_IND.reset_index(drop = True)\n",
    "D3[['main_sector','Total_number_of_investments','Total_amount_of_investment_usd']].drop_duplicates().dropna().sort_values('Total_number_of_investments',ascending = False)"
   ]
  },
  {
   "cell_type": "code",
   "execution_count": 796,
   "metadata": {},
   "outputs": [
    {
     "data": {
      "text/plain": [
       "main_sector                              company_permalink            \n",
       "Social, Finance, Analytics, Advertising  /ORGANIZATION/MANTHAN-SYSTEMS   50700000.00\n",
       "Name: raised_amount_usd, dtype: float64"
      ]
     },
     "execution_count": 796,
     "metadata": {},
     "output_type": "execute_result"
    }
   ],
   "source": [
    "D3_Top2 = D3[['main_sector','Total_number_of_investments','Total_amount_of_investment_usd']].drop_duplicates().dropna().sort_values('Total_number_of_investments',ascending = False).head(3).main_sector.reset_index(drop = True)\n",
    "#D3_Top2[0]\n",
    "D3.loc[D3['main_sector'].isin([D3_Top2[1]])].groupby(['main_sector','company_permalink'])['raised_amount_usd'].sum().dropna().sort_values(ascending = False).head(1)"
   ]
  },
  {
   "cell_type": "code",
   "execution_count": 797,
   "metadata": {},
   "outputs": [
    {
     "data": {
      "text/plain": [
       "main_sector                 company_permalink                             \n",
       "News, Search and Messaging  /ORGANIZATION/GUPSHUP-TECHNOLOGY-INDIA-PVT-LTD   33000000.00\n",
       "Name: raised_amount_usd, dtype: float64"
      ]
     },
     "execution_count": 797,
     "metadata": {},
     "output_type": "execute_result"
    }
   ],
   "source": [
    "D3.loc[D3['main_sector'].isin([D3_Top2[2]])].groupby(['main_sector','company_permalink'])['raised_amount_usd'].sum().dropna().sort_values(ascending = False).head(1)"
   ]
  },
  {
   "cell_type": "code",
   "execution_count": 798,
   "metadata": {
    "collapsed": true
   },
   "outputs": [],
   "source": [
    "import matplotlib.pyplot as plt\n",
    "import seaborn as sns"
   ]
  },
  {
   "cell_type": "code",
   "execution_count": 799,
   "metadata": {
    "collapsed": true
   },
   "outputs": [],
   "source": [
    "sns.set(rc={'figure.figsize':(11.7,8.27)})\n",
    "sns.set(font_scale=1.5)"
   ]
  },
  {
   "cell_type": "code",
   "execution_count": 800,
   "metadata": {
    "collapsed": true
   },
   "outputs": [],
   "source": [
    "by_funding_round_type_plot = master_frame[['funding_round_type','raised_amount_usd']].groupby(['funding_round_type'])['raised_amount_usd'].sum().dropna().reset_index()"
   ]
  },
  {
   "cell_type": "code",
   "execution_count": 801,
   "metadata": {
    "collapsed": true
   },
   "outputs": [],
   "source": [
    "total = by_funding_round_type_plot.raised_amount_usd.sum()\n",
    "by_funding_round_type_plot['Fraction of total investments (percentages)'] = (by_funding_round_type_plot['raised_amount_usd']/total)*100\n",
    "by_funding_round_type_plot = by_funding_round_type_plot.loc[by_funding_round_type_plot['funding_round_type'].isin(['angel','private_equity','seed','venture'])]"
   ]
  },
  {
   "cell_type": "code",
   "execution_count": 802,
   "metadata": {
    "collapsed": true
   },
   "outputs": [],
   "source": [
    "by_funding_round_type_plot = pd.merge(by_funding_round_type_plot,by_funding_round_type,how='inner', on='funding_round_type').drop('raised_amount_usd_x', axis=1).rename(index=str, columns={\"raised_amount_usd_y\": \"Average amount of investment (millions USD)\"})\n",
    "by_funding_round_type_plot['Average amount of investment (millions USD)'] = (by_funding_round_type_plot['Average amount of investment (millions USD)']/1000000)"
   ]
  },
  {
   "cell_type": "code",
   "execution_count": 803,
   "metadata": {
    "collapsed": true
   },
   "outputs": [],
   "source": [
    "by_funding_round_type_plot = pd.melt(by_funding_round_type_plot,id_vars='funding_round_type', value_vars=by_funding_round_type_plot.columns.drop('funding_round_type').tolist(),var_name='CalculationType',value_name='value').dropna().sort_values('funding_round_type')\n",
    "#by_funding_round_type_plot"
   ]
  },
  {
   "cell_type": "code",
   "execution_count": 804,
   "metadata": {
    "collapsed": true
   },
   "outputs": [],
   "source": [
    "def show_values_on_bars(axs):\n",
    "    def _show_on_single_plot(ax):        \n",
    "        for p in ax.patches:\n",
    "            _x = p.get_x() + p.get_width() / 2\n",
    "            _y = p.get_y() + p.get_height()\n",
    "            value = '{:.2f}'.format(p.get_height())\n",
    "            ax.text(_x, _y, value, ha=\"center\") \n",
    "\n",
    "    if isinstance(axs, np.ndarray):\n",
    "        for idx, ax in np.ndenumerate(axs):\n",
    "            _show_on_single_plot(ax)\n",
    "    else:\n",
    "        _show_on_single_plot(axs)"
   ]
  },
  {
   "cell_type": "code",
   "execution_count": 805,
   "metadata": {},
   "outputs": [
    {
     "data": {
      "image/png": "[encoded data removed]",
      "text/plain": [
       "<matplotlib.figure.Figure at 0x152a7278>"
      ]
     },
     "metadata": {},
     "output_type": "display_data"
    }
   ],
   "source": [
    "ax=sns.barplot(x=\"funding_round_type\", y=\"value\", hue=\"CalculationType\", data=by_funding_round_type_plot,hue_order =[\"Fraction of total investments (percentages)\",\"Average amount of investment (millions USD)\"])\n",
    "ax.set(xlabel= \"Funding Type\", ylabel = \"Values\" )\n",
    "show_values_on_bars(ax)\n",
    "plt.legend(bbox_to_anchor=(1.05, 1), loc=2, borderaxespad=0.)\n",
    "plt.show()"
   ]
  },
  {
   "cell_type": "code",
   "execution_count": 806,
   "metadata": {
    "collapsed": true
   },
   "outputs": [],
   "source": [
    "top9['Total_raised_amount_usd'] = top9['Total_raised_amount_usd']/1000000000\n",
    "#top9"
   ]
  },
  {
   "cell_type": "code",
   "execution_count": 807,
   "metadata": {},
   "outputs": [
    {
     "data": {
      "image/png": "[encoded data removed]",
      "text/plain": [
       "<matplotlib.figure.Figure at 0x129bd3c8>"
      ]
     },
     "metadata": {},
     "output_type": "display_data"
    }
   ],
   "source": [
    "ax1=sns.barplot(x=\"Total_raised_amount_usd\", y=\"country_code\", data=top9)\n",
    "ax1.set(xlabel= \"Total amount of investments (in billions USD)\", ylabel = \"Country\" )\n",
    "#plt.legend(bbox_to_anchor=(1.05, 1), loc=2, borderaxespad=0.)\n",
    "plt.show()"
   ]
  },
  {
   "cell_type": "code",
   "execution_count": 808,
   "metadata": {
    "collapsed": true
   },
   "outputs": [],
   "source": [
    "D1_USA['Country_Code'] = 'USA'\n",
    "#D1_USA"
   ]
  },
  {
   "cell_type": "code",
   "execution_count": 809,
   "metadata": {
    "collapsed": true
   },
   "outputs": [],
   "source": [
    "D2_GBR['Country_Code'] = 'GBR'\n",
    "#D2_GBR"
   ]
  },
  {
   "cell_type": "code",
   "execution_count": 810,
   "metadata": {
    "collapsed": true
   },
   "outputs": [],
   "source": [
    "D3_IND['Country_Code'] = 'IND'\n",
    "#D3_IND"
   ]
  },
  {
   "cell_type": "code",
   "execution_count": 811,
   "metadata": {},
   "outputs": [],
   "source": [
    "# Removing Others which is Top 1 for top 3 countries (USA,GBR,IND) and considering next top 3\n",
    "df_graph = D1_USA[1:4].reset_index(drop = True)\n",
    "df_graph = df_graph.append(D2_GBR[1:4], ignore_index=True).append(D3_IND[1:4], ignore_index=True)\n",
    "#df_graph"
   ]
  },
  {
   "cell_type": "code",
   "execution_count": 812,
   "metadata": {},
   "outputs": [
    {
     "data": {
      "image/png": "[encoded data removed]",
      "text/plain": [
       "<matplotlib.figure.Figure at 0x123ec400>"
      ]
     },
     "metadata": {},
     "output_type": "display_data"
    }
   ],
   "source": [
    "ax2=sns.barplot(x=\"Total_number_of_investments\",y=\"Country_Code\", hue=\"main_sector\", data=df_graph)\n",
    "ax2.set(xlabel= \"Total number of investments\", ylabel = \"Country\" )\n",
    "plt.legend(bbox_to_anchor=(1.05, 1), loc=2, borderaxespad=0.)\n",
    "plt.show()"
   ]
  }
 ],
 "metadata": {
  "kernelspec": {
   "display_name": "Python 3",
   "language": "python",
   "name": "python3"
  },
  "language_info": {
   "codemirror_mode": {
    "name": "ipython",
    "version": 3
   },
   "file_extension": ".py",
   "mimetype": "text/x-python",
   "name": "python",
   "nbconvert_exporter": "python",
   "pygments_lexer": "ipython3",
   "version": "3.6.2"
  }
 },
 "nbformat": 4,
 "nbformat_minor": 2
}
